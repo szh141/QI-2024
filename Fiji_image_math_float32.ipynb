{
  "nbformat": 4,
  "nbformat_minor": 0,
  "metadata": {
    "colab": {
      "provenance": [],
      "authorship_tag": "ABX9TyPptOzUNHia76UIaAr8N3yl",
      "include_colab_link": true
    },
    "kernelspec": {
      "name": "python3",
      "display_name": "Python 3"
    },
    "language_info": {
      "name": "python"
    }
  },
  "cells": [
    {
      "cell_type": "markdown",
      "metadata": {
        "id": "view-in-github",
        "colab_type": "text"
      },
      "source": [
        "<a href=\"https://colab.research.google.com/github/szh141/QI-2024/blob/main/Fiji_image_math_float32.ipynb\" target=\"_parent\"><img src=\"https://colab.research.google.com/assets/colab-badge.svg\" alt=\"Open In Colab\"/></a>"
      ]
    },
    {
      "cell_type": "markdown",
      "source": [
        "32 integer\n",
        "\n",
        "A “signed” (positive/negative) int whose value is represented in 32 bits\n",
        "\n",
        "Because bits are binary (either a 0 or a 1), it’s a string of 32 0’s and 1's\n",
        "\n",
        "If it’s a positive int, the leading bit is a 0; if negative, leading bit is a 1 — that’s called the integer’s “sign bit”\n",
        "\n",
        "Since one bit is the “sign”, there are 31 bits left as the magnitude of the int\n",
        "\n",
        "So, the largest value is 2³¹-1 and the smallest value is -(2³¹)"
      ],
      "metadata": {
        "id": "GeqjyS4wwdQx"
      }
    },
    {
      "cell_type": "markdown",
      "source": [
        "https://forum.image.sc/t/question-about-32-bit-images/41951/2\n",
        "float 32 is more precise than 16 integar"
      ],
      "metadata": {
        "id": "-_xUkjcewiRI"
      }
    },
    {
      "cell_type": "code",
      "execution_count": 3,
      "metadata": {
        "colab": {
          "base_uri": "https://localhost:8080/"
        },
        "id": "qBrbfxgyzLOy",
        "outputId": "321dde49-8b3a-4b06-9324-89257ba8ec0a"
      },
      "outputs": [
        {
          "output_type": "stream",
          "name": "stdout",
          "text": [
            "16bit:  0.1235\n",
            "32bit:  0.12345679\n",
            "64bit:  0.12345678912121212\n"
          ]
        }
      ],
      "source": [
        "import numpy as np\n",
        "\n",
        "a = np.array([0.123456789121212,2,3], dtype=np.float16)\n",
        "print(\"16bit: \", a[0])\n",
        "\n",
        "a = np.array([0.123456789121212,2,3], dtype=np.float32)\n",
        "print(\"32bit: \", a[0])\n",
        "\n",
        "b = np.array([0.123456789121212121212,2,3], dtype=np.float64)\n",
        "print(\"64bit: \", b[0])"
      ]
    }
  ]
}